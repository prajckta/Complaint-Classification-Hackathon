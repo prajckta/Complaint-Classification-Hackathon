{
 "cells": [
  {
   "cell_type": "code",
   "execution_count": 5,
   "id": "8c5c0eb5",
   "metadata": {},
   "outputs": [],
   "source": [
    "import pandas as pd\n",
    "df = pd.read_excel(r'C:\\Users\\user\\Desktop\\Datathon\\Team 3 - Complaints.xlsx')\n",
    "\n",
    "\n",
    "\n",
    "\n"
   ]
  },
  {
   "cell_type": "code",
   "execution_count": 6,
   "id": "72f0d15b",
   "metadata": {},
   "outputs": [
    {
     "name": "stdout",
     "output_type": "stream",
     "text": [
      "Index(['Unnamed: 0', 'product', 'narrative'], dtype='object')\n"
     ]
    }
   ],
   "source": [
    "print(df.columns)"
   ]
  },
  {
   "cell_type": "code",
   "execution_count": 7,
   "id": "4e15020f",
   "metadata": {},
   "outputs": [
    {
     "name": "stdout",
     "output_type": "stream",
     "text": [
      "   Unnamed: 0           product  \\\n",
      "0           0       credit_card   \n",
      "1           1       credit_card   \n",
      "2           2    retail_banking   \n",
      "3           3  credit_reporting   \n",
      "4           4  credit_reporting   \n",
      "5           5  credit_reporting   \n",
      "6           6  credit_reporting   \n",
      "7           7  credit_reporting   \n",
      "8           8  credit_reporting   \n",
      "9           9  credit_reporting   \n",
      "\n",
      "                                           narrative  \n",
      "0  purchase order day shipping amount receive pro...  \n",
      "1  forwarded message date tue subject please inve...  \n",
      "2  forwarded message cc sent friday pdt subject f...  \n",
      "3  payment history missing credit report speciali...  \n",
      "4  payment history missing credit report made mis...  \n",
      "5  payment history missing credit report made mis...  \n",
      "6  va date complaint experian credit bureau invol...  \n",
      "7  account reported abbreviated name full name se...  \n",
      "8  account reported abbreviated name full name se...  \n",
      "9  usdoexxxx account reported abbreviated name fu...  \n"
     ]
    }
   ],
   "source": [
    "print(df.head(10))\n"
   ]
  },
  {
   "cell_type": "code",
   "execution_count": 10,
   "id": "21b2c3ca",
   "metadata": {},
   "outputs": [
    {
     "name": "stdout",
     "output_type": "stream",
     "text": [
      "Data with Special Characters:\n",
      "                 product                                          narrative\n",
      "0            credit_card  purchase order day shipping amount receive pro...\n",
      "1            credit_card  forwarded message date tue subject please inve...\n",
      "2         retail_banking  forwarded message cc sent friday pdt subject f...\n",
      "3       credit_reporting  payment history missing credit report speciali...\n",
      "4       credit_reporting  payment history missing credit report made mis...\n",
      "...                  ...                                                ...\n",
      "162416   debt_collection                                               name\n",
      "162417       credit_card                                               name\n",
      "162418   debt_collection                                               name\n",
      "162419       credit_card                                               name\n",
      "162420  credit_reporting                                               name\n",
      "\n",
      "[162421 rows x 2 columns]\n",
      "\n",
      "Data with Removed Special Characters:\n",
      "                 product                                          narrative\n",
      "0            credit_card  purchase order day shipping amount receive pro...\n",
      "1            credit_card  forwarded message date tue subject please inve...\n",
      "2         retail_banking  forwarded message cc sent friday pdt subject f...\n",
      "3       credit_reporting  payment history missing credit report speciali...\n",
      "4       credit_reporting  payment history missing credit report made mis...\n",
      "...                  ...                                                ...\n",
      "162416   debt_collection                                               name\n",
      "162417       credit_card                                               name\n",
      "162418   debt_collection                                               name\n",
      "162419       credit_card                                               name\n",
      "162420  credit_reporting                                               name\n",
      "\n",
      "[162421 rows x 2 columns]\n"
     ]
    }
   ],
   "source": [
    "import pandas as pd\n",
    "import re\n",
    "\n",
    "# Read the Excel file\n",
    "df = pd.read_excel(r'C:\\Users\\user\\Desktop\\Datathon\\Team 3 - Complaints.xlsx')\n",
    "\n",
    "# Function to remove special characters\n",
    "def remove_special_characters(text):\n",
    "    return re.sub(r'[^a-zA-Z\\s]', '', str(text))\n",
    "\n",
    "# Print the data with special characters\n",
    "print(\"Data with Special Characters:\")\n",
    "print(df[['product', 'narrative']])\n",
    "\n",
    "# Fill missing values in the \"narrative\" column with an empty string\n",
    "df['narrative'] = df['narrative'].fillna('')\n",
    "\n",
    "# Remove special characters from the \"narrative\" column\n",
    "df['narrative'] = df['narrative'].apply(remove_special_characters)\n",
    "\n",
    "# Save the data with removed special characters back to the same DataFrame\n",
    "df.to_excel(r'C:\\Users\\user\\Desktop\\Datathon\\Team 3 - Complaints.xlsx', index=False)\n",
    "\n",
    "# Print the updated DataFrame\n",
    "print(\"\\nData with Removed Special Characters:\")\n",
    "print(df[['product', 'narrative']])\n"
   ]
  },
  {
   "cell_type": "code",
   "execution_count": 11,
   "id": "92807abf",
   "metadata": {},
   "outputs": [
    {
     "name": "stdout",
     "output_type": "stream",
     "text": [
      "Columns with Null Values:\n",
      "Series([], dtype: int64)\n"
     ]
    }
   ],
   "source": [
    "# Check for null values in the dataset\n",
    "null_values = df.isnull().sum()\n",
    "\n",
    "# Print the columns with null values and their counts\n",
    "print(\"Columns with Null Values:\")\n",
    "print(null_values[null_values > 0])\n"
   ]
  },
  {
   "cell_type": "code",
   "execution_count": 12,
   "id": "e289fbef",
   "metadata": {},
   "outputs": [
    {
     "name": "stdout",
     "output_type": "stream",
     "text": [
      "Null values in 'narrative' column: 0\n"
     ]
    }
   ],
   "source": [
    "# Check for null values in the 'narrative' column\n",
    "null_values_narrative = df['narrative'].isnull().sum()\n",
    "\n",
    "# Print the count of null values in the 'narrative' column\n",
    "print(\"Null values in 'narrative' column:\", null_values_narrative)\n"
   ]
  },
  {
   "cell_type": "code",
   "execution_count": 13,
   "id": "bd16a28a",
   "metadata": {},
   "outputs": [
    {
     "name": "stdout",
     "output_type": "stream",
     "text": [
      "Null values in 'narrative' column: 0\n"
     ]
    }
   ],
   "source": [
    "# Check for null values in the 'narrative' column\n",
    "null_values_narrative = df['product'].isnull().sum()\n",
    "\n",
    "# Print the count of null values in the 'narrative' column\n",
    "print(\"Null values in 'narrative' column:\", null_values_narrative)\n"
   ]
  },
  {
   "cell_type": "code",
   "execution_count": 14,
   "id": "f50e12ec",
   "metadata": {},
   "outputs": [
    {
     "name": "stdout",
     "output_type": "stream",
     "text": [
      "Empty DataFrame\n",
      "Columns: [Unnamed: 0, product, narrative]\n",
      "Index: []\n"
     ]
    }
   ],
   "source": [
    "import re\n",
    "\n",
    "# Function to check for special characters\n",
    "def has_special_characters(text):\n",
    "    return bool(re.search(r'[^a-zA-Z0-9\\s]', text))\n",
    "\n",
    "# Check for special characters in the 'narrative' column\n",
    "has_special_chars = df['narrative'].apply(has_special_characters)\n",
    "\n",
    "# Print rows with special characters\n",
    "print(df[has_special_chars])\n"
   ]
  },
  {
   "cell_type": "code",
   "execution_count": 15,
   "id": "2eabad81",
   "metadata": {},
   "outputs": [
    {
     "name": "stdout",
     "output_type": "stream",
     "text": [
      "        Unnamed: 0           product  \\\n",
      "0                0       credit_card   \n",
      "1                1       credit_card   \n",
      "2                2    retail_banking   \n",
      "3                3  credit_reporting   \n",
      "4                4  credit_reporting   \n",
      "...            ...               ...   \n",
      "162416      162416   debt_collection   \n",
      "162417      162417       credit_card   \n",
      "162418      162418   debt_collection   \n",
      "162419      162419       credit_card   \n",
      "162420      162420  credit_reporting   \n",
      "\n",
      "                                                narrative  \n",
      "0       purchase order day shipping amount receive pro...  \n",
      "1       forwarded message date tue subject please inve...  \n",
      "2       forwarded message cc sent friday pdt subject f...  \n",
      "3       payment history missing credit report speciali...  \n",
      "4       payment history missing credit report made mis...  \n",
      "...                                                   ...  \n",
      "162416                                               name  \n",
      "162417                                               name  \n",
      "162418                                               name  \n",
      "162419                                               name  \n",
      "162420                                               name  \n",
      "\n",
      "[162421 rows x 3 columns]\n"
     ]
    }
   ],
   "source": [
    "import re\n",
    "\n",
    "# Function to check for special characters\n",
    "def has_special_characters(text):\n",
    "    return bool(re.search(r'[^a-zA-Z0-9\\s]', text))\n",
    "\n",
    "# Check for special characters in the 'narrative' column\n",
    "has_special_chars = df['product'].apply(has_special_characters)\n",
    "\n",
    "# Print rows with special characters\n",
    "print(df[has_special_chars])\n"
   ]
  },
  {
   "cell_type": "code",
   "execution_count": 16,
   "id": "8a71f226",
   "metadata": {},
   "outputs": [
    {
     "name": "stdout",
     "output_type": "stream",
     "text": [
      "                 product                                          narrative\n",
      "0            credit_card  purchase order day shipping amount receive pro...\n",
      "1            credit_card  forwarded message date tue subject please inve...\n",
      "2         retail_banking  forwarded message cc sent friday pdt subject f...\n",
      "3       credit_reporting  payment history missing credit report speciali...\n",
      "4       credit_reporting  payment history missing credit report made mis...\n",
      "...                  ...                                                ...\n",
      "162416   debt_collection                                               name\n",
      "162417       credit_card                                               name\n",
      "162418   debt_collection                                               name\n",
      "162419       credit_card                                               name\n",
      "162420  credit_reporting                                               name\n",
      "\n",
      "[162421 rows x 2 columns]\n"
     ]
    }
   ],
   "source": [
    "# Convert the 'narrative' column to lowercase\n",
    "df['narrative'] = df['narrative'].str.lower()\n",
    "\n",
    "# Print the updated DataFrame\n",
    "print(df[['product', 'narrative']])\n"
   ]
  },
  {
   "cell_type": "code",
   "execution_count": 17,
   "id": "ba34bd48",
   "metadata": {},
   "outputs": [
    {
     "name": "stdout",
     "output_type": "stream",
     "text": [
      "                 product                                          narrative\n",
      "0            credit_card  purchase order day shipping amount receive pro...\n",
      "1            credit_card  forwarded message date tue subject please inve...\n",
      "2         retail_banking  forwarded message cc sent friday pdt subject f...\n",
      "3       credit_reporting  payment history missing credit report speciali...\n",
      "4       credit_reporting  payment history missing credit report made mis...\n",
      "...                  ...                                                ...\n",
      "162416   debt_collection                                               name\n",
      "162417       credit_card                                               name\n",
      "162418   debt_collection                                               name\n",
      "162419       credit_card                                               name\n",
      "162420  credit_reporting                                               name\n",
      "\n",
      "[162421 rows x 2 columns]\n"
     ]
    }
   ],
   "source": [
    "# Convert the 'narrative' column to lowercase\n",
    "df['product'] = df['product'].str.lower()\n",
    "\n",
    "# Print the updated DataFrame\n",
    "print(df[['product', 'narrative']])\n"
   ]
  },
  {
   "cell_type": "code",
   "execution_count": 18,
   "id": "caf5cf7f",
   "metadata": {},
   "outputs": [
    {
     "name": "stdout",
     "output_type": "stream",
     "text": [
      "Empty DataFrame\n",
      "Columns: [Unnamed: 0, product, narrative]\n",
      "Index: []\n"
     ]
    }
   ],
   "source": [
    "import re\n",
    "\n",
    "# Function to check for numbers\n",
    "def has_numbers(text):\n",
    "    return bool(re.search(r'\\d', text))\n",
    "\n",
    "# Check for numbers in the 'narrative' column\n",
    "has_numbers = df['narrative'].apply(has_numbers)\n",
    "\n",
    "# Print rows with numbers\n",
    "print(df[has_numbers])\n"
   ]
  },
  {
   "cell_type": "code",
   "execution_count": 19,
   "id": "4970bcdc",
   "metadata": {},
   "outputs": [
    {
     "name": "stdout",
     "output_type": "stream",
     "text": [
      "Empty DataFrame\n",
      "Columns: [Unnamed: 0, product, narrative]\n",
      "Index: []\n"
     ]
    }
   ],
   "source": [
    "import re\n",
    "\n",
    "# Function to check for numbers\n",
    "def has_numbers(text):\n",
    "    return bool(re.search(r'\\d', text))\n",
    "\n",
    "# Check for numbers in the 'narrative' column\n",
    "has_numbers = df['product'].apply(has_numbers)\n",
    "\n",
    "# Print rows with numbers\n",
    "print(df[has_numbers])\n"
   ]
  },
  {
   "cell_type": "code",
   "execution_count": null,
   "id": "ae397d4e",
   "metadata": {},
   "outputs": [],
   "source": []
  }
 ],
 "metadata": {
  "kernelspec": {
   "display_name": "Python 3 (ipykernel)",
   "language": "python",
   "name": "python3"
  },
  "language_info": {
   "codemirror_mode": {
    "name": "ipython",
    "version": 3
   },
   "file_extension": ".py",
   "mimetype": "text/x-python",
   "name": "python",
   "nbconvert_exporter": "python",
   "pygments_lexer": "ipython3",
   "version": "3.11.5"
  }
 },
 "nbformat": 4,
 "nbformat_minor": 5
}
